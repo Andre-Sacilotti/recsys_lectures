{
 "cells": [
  {
   "cell_type": "markdown",
   "id": "3b8d7df3",
   "metadata": {},
   "source": [
    "# Viés de Popularidade em Sistemas de Recomendação\n",
    "\n",
    "---\n",
    "\n",
    "## Tabela de Conteudos\n",
    "\n",
    "0. [Download do Dataset](#1.-Carregando-e-visualizando-o-dataset)\n",
    "\n",
    "1. [Carregando e Visualizando o Dataset](#1.-Carregando-e-visualizando-o-dataset)\n",
    "\n",
    "2. [Divisão da Base em Treino e teste](#1.-Carregando-e-visualizando-o-dataset)\n",
    "\n",
    "3. [Visualizando a curva de popularidade do dataset](#1.-Carregando-e-visualizando-o-dataset)\n",
    "\n",
    "4. [Formas de medir o vies de popularidade](#1.-Carregando-e-visualizando-o-dataset)\n",
    "\n",
    "5. [Correção do víes de popularidade](#1.-Carregando-e-visualizando-o-dataset)\n"
   ]
  },
  {
   "cell_type": "markdown",
   "id": "2d666f89",
   "metadata": {},
   "source": [
    "## 0. Download do Dataset <a class=\"anchor\" id=\"download1\"></a>"
   ]
  },
  {
   "cell_type": "markdown",
   "id": "1cc4f1cf",
   "metadata": {},
   "source": [
    "O dataset utilizado para essa aula será o conjunto Steam-200k, composto por interações entre usuarios e jogos na plataforma virtual Steam. As interações desse dataset estão no formato de \"horas jogadas\", ou seja, quanto mais o usuario gosta de determinado jogo, maior será as horas jogadas, portanto, essa será a informação usada para gerar as recomendações!\n",
    "\n",
    "Esse dataset consiste em:\n",
    "\n",
    "* 70489 interações envolvendo 3600 jogos\n",
    "* 11350 usuarios"
   ]
  },
  {
   "cell_type": "code",
   "execution_count": 1,
   "id": "49a687df",
   "metadata": {},
   "outputs": [
    {
     "name": "stdout",
     "output_type": "stream",
     "text": [
      "--2022-10-18 08:43:21--  https://raw.githubusercontent.com/Andre-Sacilotti/recsys_lectures/main/datasets/steam-200k.csv\n",
      "Resolving raw.githubusercontent.com (raw.githubusercontent.com)... 2606:50c0:8002::154, 2606:50c0:8003::154, 2606:50c0:8001::154, ...\n",
      "Connecting to raw.githubusercontent.com (raw.githubusercontent.com)|2606:50c0:8002::154|:443... connected.\n",
      "HTTP request sent, awaiting response... 200 OK\n",
      "Length: 7859471 (7.5M) [text/plain]\n",
      "Saving to: ‘./steam-200k.csv’\n",
      "\n",
      "./steam-200k.csv    100%[===================>]   7.50M  16.8MB/s    in 0.4s    \n",
      "\n",
      "2022-10-18 08:43:23 (16.8 MB/s) - ‘./steam-200k.csv’ saved [7859471/7859471]\n",
      "\n"
     ]
    }
   ],
   "source": [
    "!wget https://raw.githubusercontent.com/Andre-Sacilotti/recsys_lectures/main/datasets/steam-200k.csv  -O ./steam-200k.csv"
   ]
  },
  {
   "cell_type": "code",
   "execution_count": 2,
   "id": "57d2e2e6",
   "metadata": {},
   "outputs": [],
   "source": [
    "import pandas as pd\n",
    "import tqdm\n",
    "import numpy as np\n",
    "from sklearn.model_selection import train_test_split\n",
    "import seaborn as sns\n",
    "from matplotlib import pyplot as plt\n",
    "from surprise import Dataset, Reader\n",
    "from surprise.model_selection import cross_validate\n",
    "from surprise import accuracy, Dataset, SVD\n",
    "from surprise.model_selection import KFold\n",
    "from surprise.prediction_algorithms.knns import KNNBasic"
   ]
  },
  {
   "cell_type": "markdown",
   "id": "40d9ea74",
   "metadata": {},
   "source": [
    "## 1. Carregando e visualizando o dataset"
   ]
  },
  {
   "cell_type": "markdown",
   "id": "5a9d8434",
   "metadata": {},
   "source": [
    "A primeira etapa é carregar o dataset e realizar a normalização das horas jogadas por usuario. A normalização ocorre pois a quantidade de horas jogadas é um valor que pode aumentar sem limitações, por isso, normalizamos para o intervalo [0, 1], estabelecendo o limite inferior e superior "
   ]
  },
  {
   "cell_type": "code",
   "execution_count": 3,
   "id": "42a24735",
   "metadata": {},
   "outputs": [
    {
     "data": {
      "text/html": [
       "<div>\n",
       "<style scoped>\n",
       "    .dataframe tbody tr th:only-of-type {\n",
       "        vertical-align: middle;\n",
       "    }\n",
       "\n",
       "    .dataframe tbody tr th {\n",
       "        vertical-align: top;\n",
       "    }\n",
       "\n",
       "    .dataframe thead th {\n",
       "        text-align: right;\n",
       "    }\n",
       "</style>\n",
       "<table border=\"1\" class=\"dataframe\">\n",
       "  <thead>\n",
       "    <tr style=\"text-align: right;\">\n",
       "      <th></th>\n",
       "      <th>user_id</th>\n",
       "      <th>title</th>\n",
       "      <th>interaction</th>\n",
       "      <th>value</th>\n",
       "    </tr>\n",
       "  </thead>\n",
       "  <tbody>\n",
       "    <tr>\n",
       "      <th>0</th>\n",
       "      <td>151603712</td>\n",
       "      <td>The Elder Scrolls V Skyrim</td>\n",
       "      <td>purchase</td>\n",
       "      <td>1.0</td>\n",
       "    </tr>\n",
       "    <tr>\n",
       "      <th>1</th>\n",
       "      <td>151603712</td>\n",
       "      <td>The Elder Scrolls V Skyrim</td>\n",
       "      <td>play</td>\n",
       "      <td>273.0</td>\n",
       "    </tr>\n",
       "    <tr>\n",
       "      <th>2</th>\n",
       "      <td>151603712</td>\n",
       "      <td>Fallout 4</td>\n",
       "      <td>purchase</td>\n",
       "      <td>1.0</td>\n",
       "    </tr>\n",
       "    <tr>\n",
       "      <th>3</th>\n",
       "      <td>151603712</td>\n",
       "      <td>Fallout 4</td>\n",
       "      <td>play</td>\n",
       "      <td>87.0</td>\n",
       "    </tr>\n",
       "    <tr>\n",
       "      <th>4</th>\n",
       "      <td>151603712</td>\n",
       "      <td>Spore</td>\n",
       "      <td>purchase</td>\n",
       "      <td>1.0</td>\n",
       "    </tr>\n",
       "  </tbody>\n",
       "</table>\n",
       "</div>"
      ],
      "text/plain": [
       "     user_id                       title interaction  value\n",
       "0  151603712  The Elder Scrolls V Skyrim    purchase    1.0\n",
       "1  151603712  The Elder Scrolls V Skyrim        play  273.0\n",
       "2  151603712                   Fallout 4    purchase    1.0\n",
       "3  151603712                   Fallout 4        play   87.0\n",
       "4  151603712                       Spore    purchase    1.0"
      ]
     },
     "execution_count": 3,
     "metadata": {},
     "output_type": "execute_result"
    }
   ],
   "source": [
    "df = pd.read_csv(\"./steam-200k.csv\")\n",
    "# df['hours_played'] = df['hours_played']\n",
    "df['user_id'] = df['user_id'].astype(str)\n",
    "df.head()"
   ]
  },
  {
   "cell_type": "code",
   "execution_count": 4,
   "id": "2a84416b",
   "metadata": {},
   "outputs": [
    {
     "ename": "KeyError",
     "evalue": "'game_title'",
     "output_type": "error",
     "traceback": [
      "\u001b[0;31m---------------------------------------------------------------------------\u001b[0m",
      "\u001b[0;31mKeyError\u001b[0m                                  Traceback (most recent call last)",
      "File \u001b[0;32m~/anaconda3/lib/python3.9/site-packages/pandas/core/indexes/base.py:2646\u001b[0m, in \u001b[0;36mIndex.get_loc\u001b[0;34m(self, key, method, tolerance)\u001b[0m\n\u001b[1;32m   2645\u001b[0m \u001b[38;5;28;01mtry\u001b[39;00m:\n\u001b[0;32m-> 2646\u001b[0m     \u001b[38;5;28;01mreturn\u001b[39;00m \u001b[38;5;28;43mself\u001b[39;49m\u001b[38;5;241;43m.\u001b[39;49m\u001b[43m_engine\u001b[49m\u001b[38;5;241;43m.\u001b[39;49m\u001b[43mget_loc\u001b[49m\u001b[43m(\u001b[49m\u001b[43mkey\u001b[49m\u001b[43m)\u001b[49m\n\u001b[1;32m   2647\u001b[0m \u001b[38;5;28;01mexcept\u001b[39;00m \u001b[38;5;167;01mKeyError\u001b[39;00m:\n",
      "File \u001b[0;32mpandas/_libs/index.pyx:111\u001b[0m, in \u001b[0;36mpandas._libs.index.IndexEngine.get_loc\u001b[0;34m()\u001b[0m\n",
      "File \u001b[0;32mpandas/_libs/index.pyx:138\u001b[0m, in \u001b[0;36mpandas._libs.index.IndexEngine.get_loc\u001b[0;34m()\u001b[0m\n",
      "File \u001b[0;32mpandas/_libs/hashtable_class_helper.pxi:1619\u001b[0m, in \u001b[0;36mpandas._libs.hashtable.PyObjectHashTable.get_item\u001b[0;34m()\u001b[0m\n",
      "File \u001b[0;32mpandas/_libs/hashtable_class_helper.pxi:1627\u001b[0m, in \u001b[0;36mpandas._libs.hashtable.PyObjectHashTable.get_item\u001b[0;34m()\u001b[0m\n",
      "\u001b[0;31mKeyError\u001b[0m: 'game_title'",
      "\nDuring handling of the above exception, another exception occurred:\n",
      "\u001b[0;31mKeyError\u001b[0m                                  Traceback (most recent call last)",
      "Input \u001b[0;32mIn [4]\u001b[0m, in \u001b[0;36m<cell line: 1>\u001b[0;34m()\u001b[0m\n\u001b[0;32m----> 1\u001b[0m n_jogos \u001b[38;5;241m=\u001b[39m \u001b[38;5;28mlen\u001b[39m(\u001b[43mdf\u001b[49m\u001b[43m[\u001b[49m\u001b[38;5;124;43m'\u001b[39;49m\u001b[38;5;124;43mgame_title\u001b[39;49m\u001b[38;5;124;43m'\u001b[39;49m\u001b[43m]\u001b[49m\u001b[38;5;241m.\u001b[39munique())\n\u001b[1;32m      2\u001b[0m n_usuarios \u001b[38;5;241m=\u001b[39m \u001b[38;5;28mlen\u001b[39m(df[\u001b[38;5;124m'\u001b[39m\u001b[38;5;124muser_id\u001b[39m\u001b[38;5;124m'\u001b[39m]\u001b[38;5;241m.\u001b[39munique())\n\u001b[1;32m      4\u001b[0m \u001b[38;5;28mprint\u001b[39m(\u001b[38;5;124m\"\u001b[39m\u001b[38;5;124mNumero de Usuarios: \u001b[39m\u001b[38;5;124m\"\u001b[39m, n_usuarios)\n",
      "File \u001b[0;32m~/anaconda3/lib/python3.9/site-packages/pandas/core/frame.py:2800\u001b[0m, in \u001b[0;36mDataFrame.__getitem__\u001b[0;34m(self, key)\u001b[0m\n\u001b[1;32m   2798\u001b[0m \u001b[38;5;28;01mif\u001b[39;00m \u001b[38;5;28mself\u001b[39m\u001b[38;5;241m.\u001b[39mcolumns\u001b[38;5;241m.\u001b[39mnlevels \u001b[38;5;241m>\u001b[39m \u001b[38;5;241m1\u001b[39m:\n\u001b[1;32m   2799\u001b[0m     \u001b[38;5;28;01mreturn\u001b[39;00m \u001b[38;5;28mself\u001b[39m\u001b[38;5;241m.\u001b[39m_getitem_multilevel(key)\n\u001b[0;32m-> 2800\u001b[0m indexer \u001b[38;5;241m=\u001b[39m \u001b[38;5;28;43mself\u001b[39;49m\u001b[38;5;241;43m.\u001b[39;49m\u001b[43mcolumns\u001b[49m\u001b[38;5;241;43m.\u001b[39;49m\u001b[43mget_loc\u001b[49m\u001b[43m(\u001b[49m\u001b[43mkey\u001b[49m\u001b[43m)\u001b[49m\n\u001b[1;32m   2801\u001b[0m \u001b[38;5;28;01mif\u001b[39;00m is_integer(indexer):\n\u001b[1;32m   2802\u001b[0m     indexer \u001b[38;5;241m=\u001b[39m [indexer]\n",
      "File \u001b[0;32m~/anaconda3/lib/python3.9/site-packages/pandas/core/indexes/base.py:2648\u001b[0m, in \u001b[0;36mIndex.get_loc\u001b[0;34m(self, key, method, tolerance)\u001b[0m\n\u001b[1;32m   2646\u001b[0m         \u001b[38;5;28;01mreturn\u001b[39;00m \u001b[38;5;28mself\u001b[39m\u001b[38;5;241m.\u001b[39m_engine\u001b[38;5;241m.\u001b[39mget_loc(key)\n\u001b[1;32m   2647\u001b[0m     \u001b[38;5;28;01mexcept\u001b[39;00m \u001b[38;5;167;01mKeyError\u001b[39;00m:\n\u001b[0;32m-> 2648\u001b[0m         \u001b[38;5;28;01mreturn\u001b[39;00m \u001b[38;5;28;43mself\u001b[39;49m\u001b[38;5;241;43m.\u001b[39;49m\u001b[43m_engine\u001b[49m\u001b[38;5;241;43m.\u001b[39;49m\u001b[43mget_loc\u001b[49m\u001b[43m(\u001b[49m\u001b[38;5;28;43mself\u001b[39;49m\u001b[38;5;241;43m.\u001b[39;49m\u001b[43m_maybe_cast_indexer\u001b[49m\u001b[43m(\u001b[49m\u001b[43mkey\u001b[49m\u001b[43m)\u001b[49m\u001b[43m)\u001b[49m\n\u001b[1;32m   2649\u001b[0m indexer \u001b[38;5;241m=\u001b[39m \u001b[38;5;28mself\u001b[39m\u001b[38;5;241m.\u001b[39mget_indexer([key], method\u001b[38;5;241m=\u001b[39mmethod, tolerance\u001b[38;5;241m=\u001b[39mtolerance)\n\u001b[1;32m   2650\u001b[0m \u001b[38;5;28;01mif\u001b[39;00m indexer\u001b[38;5;241m.\u001b[39mndim \u001b[38;5;241m>\u001b[39m \u001b[38;5;241m1\u001b[39m \u001b[38;5;129;01mor\u001b[39;00m indexer\u001b[38;5;241m.\u001b[39msize \u001b[38;5;241m>\u001b[39m \u001b[38;5;241m1\u001b[39m:\n",
      "File \u001b[0;32mpandas/_libs/index.pyx:111\u001b[0m, in \u001b[0;36mpandas._libs.index.IndexEngine.get_loc\u001b[0;34m()\u001b[0m\n",
      "File \u001b[0;32mpandas/_libs/index.pyx:138\u001b[0m, in \u001b[0;36mpandas._libs.index.IndexEngine.get_loc\u001b[0;34m()\u001b[0m\n",
      "File \u001b[0;32mpandas/_libs/hashtable_class_helper.pxi:1619\u001b[0m, in \u001b[0;36mpandas._libs.hashtable.PyObjectHashTable.get_item\u001b[0;34m()\u001b[0m\n",
      "File \u001b[0;32mpandas/_libs/hashtable_class_helper.pxi:1627\u001b[0m, in \u001b[0;36mpandas._libs.hashtable.PyObjectHashTable.get_item\u001b[0;34m()\u001b[0m\n",
      "\u001b[0;31mKeyError\u001b[0m: 'game_title'"
     ]
    }
   ],
   "source": [
    "n_jogos = len(df['game_title'].unique())\n",
    "n_usuarios = len(df['user_id'].unique())\n",
    "\n",
    "print(\"Numero de Usuarios: \", n_usuarios)\n",
    "print(\"Numero de Jogos: \", n_jogos)"
   ]
  },
  {
   "cell_type": "markdown",
   "id": "1d04d323",
   "metadata": {},
   "source": [
    "## 2. Divisão da base em treino e teste"
   ]
  },
  {
   "cell_type": "markdown",
   "id": "56ceb234",
   "metadata": {},
   "source": [
    "Antes de avançar para as etapas de exploração dos vieses de popularidade é importante dividir o dataset em bases de treino e teste.\n",
    "\n",
    "Essa divisão é importante, pois, usaremos a base de treino tanto para ajustar nosso modelo de recomendação, conforme ja visto nas aulas anteriores, mas também para metrificar o estado inicial do perfis dos usuarios, ou seja, usaremos a base de treino para medir o nivel de popularidade dos filmes que cada usuario consome e poder realizar uma comparação justa com as recomendações geradas posteriormente!"
   ]
  },
  {
   "cell_type": "code",
   "execution_count": null,
   "id": "bf0f088d",
   "metadata": {},
   "outputs": [],
   "source": [
    "train, test = train_test_split(df, test_size=.3, random_state=42)"
   ]
  },
  {
   "cell_type": "markdown",
   "id": "afdebb8b",
   "metadata": {},
   "source": [
    "## 3. Visualizando a curva de popularidade do dataset"
   ]
  },
  {
   "cell_type": "markdown",
   "id": "040f12a8",
   "metadata": {},
   "source": [
    "A primeira etapa para entender o que é essa tal de popularidade é defini-la! \n",
    "\n",
    "Nessa aula usaremos a definição de popularidade como a quantidade de interações que um item, jogo ou filme possui. Por exemplo, se 10 usuarios jogaram o jogo A e 100 usuarios jogaram o jogo B, definimos que a popularidade $p(A) = 10$ e $p(B) = 100$ de tal forma que podemos comparar o quão mais popular ou não são os jogos, $p(B) > p(A)$."
   ]
  },
  {
   "cell_type": "markdown",
   "id": "a652b51a",
   "metadata": {},
   "source": [
    "### 3.1 Calculo da quantidade de horas jogadas por jogo"
   ]
  },
  {
   "cell_type": "markdown",
   "id": "f0787f87",
   "metadata": {},
   "source": [
    "Utilizando a ferramento ``groupby`` do pandas podemos agrupar jogos com mesmo titulo e contar a quantidade de iterações"
   ]
  },
  {
   "cell_type": "code",
   "execution_count": null,
   "id": "8ec4ad14",
   "metadata": {},
   "outputs": [],
   "source": [
    "soma_interacoes_por_jogo = train.groupby('game_title').count()[['hours_played']]\n",
    "soma_interacoes_por_jogo.columns = ['interactions']\n",
    "\n",
    "map_soma = soma_interacoes_por_jogo.to_dict()['interactions']\n",
    "\n",
    "soma_interacoes_por_jogo.head(5)"
   ]
  },
  {
   "cell_type": "markdown",
   "id": "d0ef8409",
   "metadata": {},
   "source": [
    "Podemos também ordenar esses valores para visualizar os jogos com maiores interações e plota-los de forma decrescente!"
   ]
  },
  {
   "cell_type": "code",
   "execution_count": null,
   "id": "cbb0ce65",
   "metadata": {},
   "outputs": [],
   "source": [
    "soma_interacoes_por_jogo_ordenado = soma_interacoes_por_jogo.sort_values('interactions', ascending=False)\n",
    "\n",
    "map_id = dict(list(enumerate(soma_interacoes_por_jogo.index)))\n",
    "map_id = {v:k for k,v in map_id.items()}\n",
    "\n",
    "\n",
    "soma_interacoes_por_jogo_ordenado.head(5)"
   ]
  },
  {
   "cell_type": "markdown",
   "id": "82a51f4d",
   "metadata": {},
   "source": [
    "### 3.2 A Long Tail Curve"
   ]
  },
  {
   "cell_type": "markdown",
   "id": "95f9bd96",
   "metadata": {},
   "source": [
    "Um conceito fundamental em sistemas de recomendação é a Cauda Longa (Long Tail Curve)"
   ]
  },
  {
   "cell_type": "code",
   "execution_count": null,
   "id": "aded6bad",
   "metadata": {},
   "outputs": [],
   "source": [
    "plt.figure(figsize=(12, 8))\n",
    "sns.lineplot(\n",
    "    x = [i for i in range(len(soma_interacoes_por_jogo_ordenado))],\n",
    "    y = soma_interacoes_por_jogo_ordenado['interactions']\n",
    ")\n",
    "plt.grid()"
   ]
  },
  {
   "cell_type": "markdown",
   "id": "8fd236e6",
   "metadata": {},
   "source": [
    "### 3.3 A relação entre popularidade e frequencia de recomendação"
   ]
  },
  {
   "cell_type": "markdown",
   "id": "edd9cdf3",
   "metadata": {},
   "source": [
    "Ao longo da historia da pesquisa em sistemas de recomendação um fato veio a tona: Os algoritmos possuem vieses naturalmente, em especifico para o vies de popularidade, notou-se que alguns algoritmos tendem a recomendar com mais frequencia aqueles filmes, jogos ou livros que são mais famosos, acarretando na retroalimentação (Feedback Loop) do vies de popularidade (\"rich get richer\").\n",
    "\n",
    "Nessa etapa vamos visualizar como o modelo ``User-based KNN`` lida com esse vies! Para explorar isso vamos criar um modelo basico, treina-lo e gerar uma recomendação com o top-10 itens para cada usuario.\n",
    "\n",
    "Além disso, vamos definir o conceito de ``frequencia de recomendação`` como a quantidade de vezes em que cada item é recomendado para todas as top-10 recomendações geradas. Por exemplo, se pro usuario 1 recomendamos os jogos A, B e C e para o usuario 2 recomendamos o jogo B e D, teremos que a frequencia de recomendação de B, $f(B) = 2$, enquanto que $f(A) = f(C) = f(D) = 1$"
   ]
  },
  {
   "cell_type": "code",
   "execution_count": null,
   "id": "aeb54d29",
   "metadata": {},
   "outputs": [],
   "source": [
    "reader = Reader(rating_scale = (0, df['hours_played'].max()))\n",
    "\n",
    "trainset = Dataset.load_from_df(\n",
    "    train[[\"user_id\", \"game_title\", \"hours_played\"]], reader=reader\n",
    ").build_full_trainset()\n",
    "\n",
    "userknn = KNNBasic(sim_options={\"user_based\": True})\n",
    "userknn.fit(trainset)"
   ]
  },
  {
   "cell_type": "markdown",
   "id": "7d45c3f1",
   "metadata": {},
   "source": [
    "No bloco abaixo estamos calculando o score entre usuarios e jogos para selecionar os 10 itens com o maior score para cada usuario"
   ]
  },
  {
   "cell_type": "code",
   "execution_count": null,
   "id": "26b98d08",
   "metadata": {},
   "outputs": [],
   "source": [
    "new_predictions = []\n",
    "data_p2 = []\n",
    "\n",
    "for user in tqdm.tqdm(test['user_id'].unique()[:1000]):\n",
    "    data = {\"game_title\": list(set(df[\"game_title\"].unique()))}\n",
    "    user_testset_df = pd.DataFrame(data)\n",
    "    user_testset_df[\"hours_played\"] = 0.0\n",
    "    user_testset_df[\"user_id\"] = user\n",
    "    \n",
    "    testset = (\n",
    "        Dataset.load_from_df(\n",
    "            user_testset_df[[\"user_id\", \"game_title\", \"hours_played\"]],\n",
    "            reader=reader,\n",
    "        )\n",
    "        .build_full_trainset()\n",
    "        .build_testset()\n",
    "    )\n",
    "    predictions = sorted(\n",
    "        [(pred.iid, pred.est)for pred in userknn.test(testset) if ((pred.uid == user))],\n",
    "        key=lambda x: x[1],reverse=True\n",
    "    )\n",
    "    new_predictions.append(predictions[:10])\n",
    "    \n",
    "    for j in predictions[:10]:\n",
    "        data_p2\n",
    "    \n"
   ]
  },
  {
   "cell_type": "code",
   "execution_count": null,
   "id": "15abfee1",
   "metadata": {},
   "outputs": [],
   "source": [
    "import seaborn as sns\n",
    "from matplotlib import pyplot as plt\n",
    "\n",
    "plt.figure(figsize=(12, 8))\n",
    "\n",
    "g = sns.histplot(\n",
    "    x = data_p2,color='red', alpha=0.4\n",
    ")\n",
    "plt.ylabel(\"Frequencia da Recomendação (Vermelho)\")\n",
    "plt.xlabel(\"ID Filmes\")\n",
    "ax2 = g.twinx()\n",
    "\n",
    "plt.ylabel(\"Quantidade de Interações (Azul)\")\n",
    "sns.lineplot(\n",
    "    x = [i for i in range(len(df['game_title'].unique()))],\n",
    "    y=df.groupby('game_title').count().sort_values('hours_played', ascending=False)['hours_played'], ax=ax2,\n",
    "    color='blue',linewidth = 4, alpha=0.5\n",
    ")\n",
    "plt.grid()\n",
    "plt.xlabel(\"ID Filmes\")"
   ]
  },
  {
   "cell_type": "markdown",
   "id": "bf6ba41f",
   "metadata": {},
   "source": [
    "Na visualização acima temos a long-tail em azul, mostrando que poucos jogos concetram a maior parte das interações do dataset, porem, acrescentamos uma distribuição em vermelho, mostrando a quantidade acumulada que os itens foram recomendados para os usuarios.\n",
    "\n",
    "Fica claro que existe uma correlação em que quanto mais popular o item (Azul), mais aparece o item nas listas de recomendação (Vermelho).\n",
    "\n",
    "Esse é um exemplo classico em que os itens pouco popularidades do final da curva azul não são recomendados, sendo ignorados pelo dataset."
   ]
  },
  {
   "cell_type": "markdown",
   "id": "fd649620",
   "metadata": {},
   "source": [
    "## 4. Formas de medir o vies de popularidade"
   ]
  },
  {
   "cell_type": "markdown",
   "id": "3365103d",
   "metadata": {},
   "source": [
    "Na etapa anterior foi possivel visualizar que existe uma correlação entre popularidade e a frequencia em que esses itens são recomendados, mas, precisamos medir esses efeitos de forma quantitativa para fazer comparações justas entre modelos de recomendação e algoritmos de debiasing"
   ]
  },
  {
   "cell_type": "markdown",
   "id": "13ea9384",
   "metadata": {},
   "source": [
    "### 4.1 Popularidade média por grupo"
   ]
  },
  {
   "attachments": {
    "keyword-short-vs-longtail-2020-08-03_08-24-43%281%29.png": {
     "image/png": "[encoded data removed]"
    }
   },
   "cell_type": "markdown",
   "id": "e729fad2",
   "metadata": {},
   "source": [
    "Uma das formas de medir o impacto do vies de popularidade é por meio de uma metrica chamada GAP (Group Average Popularity). Essa métrica tem como objetivo agrupar usuarios em tres diferentes grupos:\n",
    "\n",
    "* **Usuarios BlockBuster:** nesse caso os usuarios consomem majoritariamente jogos/filmes populares\n",
    "* **Usuarios de Nicho:** Nessa categoria temos usuarios que consomem majoritariamente jogos/filmes pouco populares, como jogos indie e de nicho.\n",
    "* **Usuarios de Diversidade:** Nessa categoria os usuarios consomem tanto populares quanto não populares\n",
    "\n",
    "No entanto, para obter esses grupos, precisamos antes definir um criterio para dizer quais são os jogos populares ou não. Uma maneira de realizar essa divisão é utilizando a long tail curve que visualizamos anteriormente, de forma a dividi-la em 3 partes, sendo:\n",
    "* **Head:** Grupo dos jogos que juntos somam 20% das maiores interações do dataset\n",
    "* **Tail:** Grupo dos jogos que juntos somam 20% das menores interações do dataset\n",
    "* **Mid:** Restante dos jogos que não entram em nenhum desses grupos.\n",
    "\n",
    "Abaixo temos um exemplo da long tail dividida nos grupos:\n",
    "<br><br>\n",
    "<img src=\"attachment:keyword-short-vs-longtail-2020-08-03_08-24-43%281%29.png\" width=\"550\"/>\n"
   ]
  },
  {
   "cell_type": "markdown",
   "id": "addb6c5e",
   "metadata": {},
   "source": [
    "Na cédula abaixo estamos somando as interações dos 11 filmes com maior interação do dataset e dividindo pela soma do total de interações. Observa-se que o resultado fica em $0.200823$, aproximadamente 20% ou seja, temos os itens que representam a HEAD da long tail curve, que compoem as 20% maiores interações"
   ]
  },
  {
   "cell_type": "code",
   "execution_count": null,
   "id": "01bee4dc",
   "metadata": {},
   "outputs": [],
   "source": [
    "print(\n",
    "    \"% de interações: \",\n",
    "    (soma_interacoes_por_jogo_ordenado.values[:11].sum()/soma_interacoes_por_jogo_ordenado.sum()\n",
    "    ).values[0]\n",
    ")"
   ]
  },
  {
   "cell_type": "markdown",
   "id": "15281225",
   "metadata": {},
   "source": [
    "Na cédula abaixo estamos somando as interações dos 2680 filmes com menor interação do dataset e dividindo pela soma do total de interações. Observa-se que o resultado fica em $0.20214$, aproximadamente 20% ou seja, temos os itens que representam a TAIL da long tail curve, que compoem as 20% menores interações"
   ]
  },
  {
   "cell_type": "code",
   "execution_count": null,
   "id": "38d480c3",
   "metadata": {},
   "outputs": [],
   "source": [
    "print(\n",
    "    \"% de interações: \",\n",
    "    (soma_interacoes_por_jogo_ordenado.values[-2680:].sum()/soma_interacoes_por_jogo_ordenado.sum()\n",
    "    ).values[0]\n",
    ")"
   ]
  },
  {
   "cell_type": "markdown",
   "id": "55fe4155",
   "metadata": {},
   "source": [
    "Sabendo que os 11 primeiros filmes pertencem a HEAD e que os ultimos 2680 pertencem a TAIL, podemos definir uma variavel com o nome dos filmes e obter os filmes da categoria MID que não pertencem nem a HEAD nem a TAIL."
   ]
  },
  {
   "cell_type": "code",
   "execution_count": null,
   "id": "d5cf36b1",
   "metadata": {},
   "outputs": [],
   "source": [
    "jogos_maior_20porcento_nome = soma_interacoes_por_jogo_ordenado.reset_index().values[:11, 0]\n",
    "jogos_menor_20porcento_nome = soma_interacoes_por_jogo_ordenado.reset_index().values[-2916:, 0]\n",
    "\n",
    "jogos_entre_os_20porcento = set(df['game_title']) - set(jogos_maior_20porcento_nome) - set(jogos_menor_20porcento_nome)"
   ]
  },
  {
   "cell_type": "markdown",
   "id": "8e24169a",
   "metadata": {},
   "source": [
    "Após definir os items por categoria, vamos verificar em quais categorias cada usuario se encaixa. A verificação é simples:\n",
    "* Consome mais que 50% de items da HEAD -> Usuario BlockBuster\n",
    "* Consome mais que 50% de items da TAIL -> Usuario de Nicho\n",
    "* Caso não seja nenhum dos dois anteriores -> Usuario de Diversidade"
   ]
  },
  {
   "cell_type": "code",
   "execution_count": null,
   "id": "178bb0b6",
   "metadata": {},
   "outputs": [],
   "source": [
    "block_buster_group = []\n",
    "niche_group = []\n",
    "diverse_group = []\n",
    "\n",
    "for user_id in train['user_id'].unique():\n",
    "    interacted_by_user = train[train['user_id'] == user_id]\n",
    "    high_pop = interacted_by_user[interacted_by_user['game_title'].isin(jogos_maior_20porcento_nome)]\n",
    "    lowest_pop = interacted_by_user[interacted_by_user['game_title'].isin(jogos_menor_20porcento_nome)]\n",
    "\n",
    "    if len(high_pop)/len(interacted_by_user) > 0.5:\n",
    "        block_buster_group.append(user_id)\n",
    "    elif len(lowest_pop)/len(interacted_by_user) > 0.5:\n",
    "        niche_group.append(user_id)\n",
    "    else:\n",
    "        diverse_group.append(user_id)"
   ]
  },
  {
   "cell_type": "code",
   "execution_count": null,
   "id": "72048e49",
   "metadata": {},
   "outputs": [],
   "source": [
    "def calculate_gap_profile(train, user_id):\n",
    "    list_items = train[train['user_id'] == user_id]['game_title'].values\n",
    "    gap = sum([map_soma[i] for i in list_items])\n",
    "    return gap/len(list_items)\n",
    "    \n",
    "    \n",
    "gap_bb_profile = np.mean([calculate_gap_profile(train, i) for i in block_buster_group])\n",
    "gap_n_profile = np.mean([calculate_gap_profile(train, i) for i in niche_group])\n",
    "gap_d_profile = np.mean([calculate_gap_profile(train, i) for i in diverse_group])"
   ]
  },
  {
   "cell_type": "code",
   "execution_count": null,
   "id": "790fe2d7",
   "metadata": {},
   "outputs": [],
   "source": [
    "def calculate_gap(list_items):\n",
    "    gap = sum([map_soma.get(i, 0) for i in list_items])\n",
    "    return gap/len(list_items)\n",
    "\n",
    "gap_bb_rec1 = 0\n",
    "gap_d_rec1 = 0\n",
    "gap_n_rec1 = 0\n",
    "\n",
    "n_bb, n_d, n_n = 0, 0, 0\n",
    "\n",
    "for user, reclist in zip(tqdm.tqdm(test['user_id'].unique()), new_predictions):\n",
    "    if user in block_buster_group:\n",
    "        n_bb += 1\n",
    "        gap_bb_rec1 += calculate_gap([i[0] for i in reclist])\n",
    "    elif user in niche_group:\n",
    "        n_n += 1\n",
    "        gap_n_rec1 += calculate_gap([i[0] for i in reclist])\n",
    "    else:\n",
    "        n_d += 1\n",
    "        gap_d_rec1 += calculate_gap([i[0] for i in reclist])\n",
    "\n",
    "gap_bb_rec1 = gap_bb_rec1/n_bb\n",
    "gap_d_rec1 = gap_d_rec1/n_d\n",
    "gap_n_rec1 = gap_n_rec1/n_n"
   ]
  },
  {
   "cell_type": "code",
   "execution_count": null,
   "id": "71c7eaf4",
   "metadata": {},
   "outputs": [],
   "source": [
    "delta_gab_bb = (gap_bb_rec1 - gap_bb_profile )/gap_bb_profile\n",
    "delta_gab_d = (gap_d_rec1 - gap_d_profile )/gap_d_profile\n",
    "delta_gab_n = (gap_n_rec1 - gap_n_profile )/gap_n_profile\n",
    "\n",
    "delta_gab_bb, delta_gab_d, delta_gab_n"
   ]
  },
  {
   "cell_type": "markdown",
   "id": "b6f793e3",
   "metadata": {},
   "source": [
    "### 4.2 Cobertura da cauda da long tail curve"
   ]
  },
  {
   "cell_type": "code",
   "execution_count": null,
   "id": "2640e115",
   "metadata": {},
   "outputs": [],
   "source": []
  },
  {
   "cell_type": "markdown",
   "id": "24085749",
   "metadata": {},
   "source": [
    "### 4.3 MRR"
   ]
  },
  {
   "cell_type": "code",
   "execution_count": null,
   "id": "b687f32c",
   "metadata": {},
   "outputs": [],
   "source": []
  },
  {
   "cell_type": "markdown",
   "id": "35e886bc",
   "metadata": {},
   "source": [
    "## 5. Correção do víes de popularidade"
   ]
  },
  {
   "cell_type": "markdown",
   "id": "79058d2b",
   "metadata": {},
   "source": [
    "Conseguimos visualizar a problematica do vies de popularidade, medimos seu efeito de forma quantitativas, mas, e agora? Como pode evita-lo?\n",
    "\n",
    "Existem inumeros métodos na literatura, mas, abordaremos um caso simples, proposto por [Nome Abdoula], em que é aplicado para os scores de cada item a seguinte heuristica:\n",
    "\n",
    "$$\n",
    "\\hat{r_{ui}} = (1-\\alpha)\\cdot r_{ui} + \\alpha \\cdot \\frac{1}{log(p(i))}\n",
    "$$\n",
    "\n",
    "Essa heuristica penaliza items que possuem muitas interações, pois, adiciona mais pontos ao score do item baseado em um calculo que é inversamente proporsional a quantidade de interações! Além disso, essa tecnica possui um parametro $\\alpha$ que permite controlar o quanto queremos considerar da popularidade ou do score do modelo, ou seja, um $\\alpha$ grande tende a penalizar muito itens populares enquanto que $\\alpha$ pequeno tende a privilegiar itens populares.\n",
    "\n",
    "Imagine que para o usuario $u$ nosso sistema recomendou os itens A e B, sendo o score de A $r_{uA} = 5$ e o score de B $r_{uB} = 4$, porem a popularidade de A é $p(A) = 10000$ e a popularidade de B é $p(B) = 10$, se aplicarmos essa correção com $alpha=0.5$, teremos que o novo score de A será $\\hat{r_{uA}} = 2.75$ enquanto que o novo score de B será $\\hat{r_{uB}} = 3$, ou seja, apesar de B ter um score inicial menor, por estarmos privilegiando itens menos popularidades seu novo score é maior, sendo ele escolhido para compor a lista de recomendação!"
   ]
  },
  {
   "cell_type": "code",
   "execution_count": null,
   "id": "d482c06f",
   "metadata": {},
   "outputs": [],
   "source": [
    "new_predictions_after = []\n",
    "data_p2_after = []\n",
    "\n",
    "alpha = 0.9    \n",
    "\n",
    "for user in tqdm.tqdm(test['user_id'].unique()[:1000]):\n",
    "    data = {\"game_title\": list(set(df[\"game_title\"].unique()))}\n",
    "    user_testset_df = pd.DataFrame(data)\n",
    "    user_testset_df[\"hours_played\"] = 0.0\n",
    "    user_testset_df[\"user_id\"] = user\n",
    "    \n",
    "    testset = (\n",
    "        Dataset.load_from_df(\n",
    "            user_testset_df[[\"user_id\", \"game_title\", \"hours_played\"]],\n",
    "            reader=reader,\n",
    "        )\n",
    "        .build_full_trainset()\n",
    "        .build_testset()\n",
    "    )\n",
    "    predictions = sorted(\n",
    "        [(pred.iid, (1-alpha)*pred.est + (alpha/np.log(map_soma.get(pred.iid, 1)+1)) )for pred in userknn.test(testset) if ((pred.uid == user))],\n",
    "        key=lambda x: x[1],reverse=True\n",
    "    )\n",
    "    new_predictions_after.append(predictions[:10])\n",
    "    \n",
    "    for j in predictions[:10]:\n",
    "        if j[0] in map_id:\n",
    "            data_p2_after.append(map_id[j[0]])"
   ]
  },
  {
   "cell_type": "code",
   "execution_count": null,
   "id": "7a03bd18",
   "metadata": {},
   "outputs": [],
   "source": [
    "import seaborn as sns\n",
    "from matplotlib import pyplot as plt\n",
    "\n",
    "plt.figure(figsize=(12, 8))\n",
    "\n",
    "g = sns.histplot(\n",
    "    x = data_p2_after,color='red', label='Porcentagem de Recomendações', alpha=0.7\n",
    ")\n",
    "\n",
    "ax2 = g.twinx()\n",
    "\n",
    "sns.lineplot(\n",
    "    x = [i for i in range(len(df['game_title'].unique()))],\n",
    "    y=df.groupby('game_title').sum().sort_values('hours_played', ascending=False)['hours_played'], ax=ax2,\n",
    "    color='blue', label=\"Curva de popularidade\", linewidth = 4, alpha=0.5\n",
    ")\n",
    "\n",
    "plt.grid()"
   ]
  },
  {
   "cell_type": "code",
   "execution_count": null,
   "id": "aa738748",
   "metadata": {},
   "outputs": [],
   "source": [
    "def calculate_gap(list_items):\n",
    "    gap = sum([map_soma.get(i, 0) for i in list_items])\n",
    "    return gap/len(list_items)\n",
    "\n",
    "gap_bb_rec1 = 0\n",
    "gap_d_rec1 = 0\n",
    "gap_n_rec1 = 0\n",
    "\n",
    "n_bb, n_d, n_n = 0, 0, 0\n",
    "\n",
    "for user, reclist in zip(tqdm.tqdm(test['user_id'].unique()), new_predictions):\n",
    "    if user in block_buster_group:\n",
    "        n_bb += 1\n",
    "        gap_bb_rec1 += calculate_gap([i[0] for i in reclist])\n",
    "    elif user in niche_group:\n",
    "        n_n += 1\n",
    "        gap_n_rec1 += calculate_gap([i[0] for i in reclist])\n",
    "    else:\n",
    "        n_d += 1\n",
    "        gap_d_rec1 += calculate_gap([i[0] for i in reclist])\n",
    "\n",
    "gap_bb_rec1_after = gap_bb_rec1/n_bb\n",
    "gap_d_rec1_after = gap_d_rec1/n_d\n",
    "gap_n_rec1_after = gap_n_rec1/n_n"
   ]
  },
  {
   "cell_type": "code",
   "execution_count": null,
   "id": "ef55b759",
   "metadata": {},
   "outputs": [],
   "source": [
    "reclist"
   ]
  },
  {
   "cell_type": "code",
   "execution_count": null,
   "id": "12686852",
   "metadata": {},
   "outputs": [],
   "source": [
    "delta_gab_bb_after = (gap_bb_rec1_after - gap_bb_profile )/gap_bb_profile\n",
    "delta_gab_d_after = (gap_d_rec1_after - gap_d_profile )/gap_d_profile\n",
    "delta_gab_n_after = (gap_n_rec1_after - gap_n_profile )/gap_n_profile\n",
    "\n",
    "delta_gab_bb_after, delta_gab_d_after, delta_gab_n_after"
   ]
  },
  {
   "cell_type": "code",
   "execution_count": null,
   "id": "8397c356",
   "metadata": {},
   "outputs": [],
   "source": [
    "(-0.9007511472042732, -0.4270692511577348, 3.848127645223334)"
   ]
  },
  {
   "cell_type": "markdown",
   "id": "1097c0c7",
   "metadata": {},
   "source": []
  }
 ],
 "metadata": {
  "kernelspec": {
   "display_name": "Python 3 (ipykernel)",
   "language": "python",
   "name": "python3"
  },
  "language_info": {
   "codemirror_mode": {
    "name": "ipython",
    "version": 3
   },
   "file_extension": ".py",
   "mimetype": "text/x-python",
   "name": "python",
   "nbconvert_exporter": "python",
   "pygments_lexer": "ipython3",
   "version": "3.9.12"
  }
 },
 "nbformat": 4,
 "nbformat_minor": 5
}
