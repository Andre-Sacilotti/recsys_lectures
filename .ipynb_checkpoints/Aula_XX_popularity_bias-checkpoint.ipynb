{
 "cells": [
  {
   "cell_type": "markdown",
   "id": "d7949308",
   "metadata": {},
   "source": [
    "# Viés de Popularidade em Sistemas de Recomendação\n",
    "\n",
    "---\n",
    "\n",
    "## Tabela de Conteudos\n",
    "\n",
    "0. [Download do Dataset](#1.-Carregando-e-visualizando-o-dataset)\n",
    "\n",
    "1. [Carregando e Visualizando o Dataset](#1.-Carregando-e-visualizando-o-dataset)\n",
    "\n",
    "2. [Divisão da Base em Treino e teste](#1.-Carregando-e-visualizando-o-dataset)\n",
    "\n",
    "3. [Visualizando a curva de popularidade do dataset](#1.-Carregando-e-visualizando-o-dataset)\n",
    "\n",
    "4. [Formas de medir o vies de popularidade](#1.-Carregando-e-visualizando-o-dataset)\n",
    "\n",
    "5. [Correção do víes de popularidade](#1.-Carregando-e-visualizando-o-dataset)\n"
   ]
  },
  {
   "cell_type": "markdown",
   "id": "c3dff01a",
   "metadata": {},
   "source": [
    "## 0. Download do Dataset <a class=\"anchor\" id=\"download1\"></a>"
   ]
  },
  {
   "cell_type": "markdown",
   "id": "2d6c31e8",
   "metadata": {},
   "source": [
    "O dataset utilizado para essa aula será o conjunto Steam-200k, composto por interações entre usuarios e jogos na plataforma virtual Steam. As interações desse dataset estão no formato de \"horas jogadas\", ou seja, quanto mais o usuario gosta de determinado jogo, maior será as horas jogadas, portanto, essa será a informação usada para gerar as recomendações!\n",
    "\n",
    "Esse dataset consiste em:\n",
    "\n",
    "* 70489 interações envolvendo 3600 jogos\n",
    "* 11350 usuarios"
   ]
  },
  {
   "cell_type": "code",
   "execution_count": 1,
   "id": "7ebc9a6e",
   "metadata": {},
   "outputs": [
    {
     "name": "stdout",
     "output_type": "stream",
     "text": [
      "--2022-10-18 01:07:01--  https://raw.githubusercontent.com/Andre-Sacilotti/recsys_lectures/main/datasets/steam-200k.csv\n",
      "Resolving raw.githubusercontent.com (raw.githubusercontent.com)... 2606:50c0:8003::154, 2606:50c0:8002::154, 2606:50c0:8000::154, ...\n",
      "Connecting to raw.githubusercontent.com (raw.githubusercontent.com)|2606:50c0:8003::154|:443... connected.\n",
      "HTTP request sent, awaiting response... 200 OK\n",
      "Length: 7859471 (7.5M) [text/plain]\n",
      "Saving to: ‘./steam-200k.csv’\n",
      "\n",
      "./steam-200k.csv    100%[===================>]   7.50M  18.4MB/s    in 0.4s    \n",
      "\n",
      "2022-10-18 01:07:02 (18.4 MB/s) - ‘./steam-200k.csv’ saved [7859471/7859471]\n",
      "\n"
     ]
    }
   ],
   "source": [
    "!wget https://raw.githubusercontent.com/Andre-Sacilotti/recsys_lectures/main/datasets/steam-200k.csv  -O ./steam-200k.csv"
   ]
  },
  {
   "cell_type": "code",
   "execution_count": 5,
   "id": "e2ca72ab",
   "metadata": {},
   "outputs": [],
   "source": [
    "import pandas as pd\n",
    "import tqdm\n",
    "import numpy as np\n",
    "from sklearn.model_selection import train_test_split\n",
    "import seaborn as sns\n",
    "from matplotlib import pyplot as plt\n",
    "from surprise import Dataset, Reader\n",
    "from surprise.model_selection import cross_validate\n",
    "from surprise import accuracy, Dataset, SVD\n",
    "from surprise.model_selection import KFold\n",
    "from surprise.prediction_algorithms.knns import KNNBasic"
   ]
  },
  {
   "cell_type": "markdown",
   "id": "9ed3cd60",
   "metadata": {},
   "source": [
    "## 1. Carregando e visualizando o dataset"
   ]
  },
  {
   "cell_type": "markdown",
   "id": "7c3838d2",
   "metadata": {},
   "source": [
    "A primeira etapa é carregar o dataset e realizar a normalização das horas jogadas por usuario. A normalização ocorre pois a quantidade de horas jogadas é um valor que pode aumentar sem limitações, por isso, normalizamos para o intervalo [0, 1], estabelecendo o limite inferior e superior "
   ]
  },
  {
   "cell_type": "code",
   "execution_count": 6,
   "id": "4927e5a4",
   "metadata": {},
   "outputs": [
    {
     "data": {
      "text/html": [
       "<div>\n",
       "<style scoped>\n",
       "    .dataframe tbody tr th:only-of-type {\n",
       "        vertical-align: middle;\n",
       "    }\n",
       "\n",
       "    .dataframe tbody tr th {\n",
       "        vertical-align: top;\n",
       "    }\n",
       "\n",
       "    .dataframe thead th {\n",
       "        text-align: right;\n",
       "    }\n",
       "</style>\n",
       "<table border=\"1\" class=\"dataframe\">\n",
       "  <thead>\n",
       "    <tr style=\"text-align: right;\">\n",
       "      <th></th>\n",
       "      <th>user_id</th>\n",
       "      <th>game_title</th>\n",
       "      <th>hours_played</th>\n",
       "    </tr>\n",
       "  </thead>\n",
       "  <tbody>\n",
       "    <tr>\n",
       "      <th>0</th>\n",
       "      <td>151603712</td>\n",
       "      <td>The Elder Scrolls V Skyrim</td>\n",
       "      <td>273.0</td>\n",
       "    </tr>\n",
       "    <tr>\n",
       "      <th>1</th>\n",
       "      <td>151603712</td>\n",
       "      <td>Fallout 4</td>\n",
       "      <td>87.0</td>\n",
       "    </tr>\n",
       "    <tr>\n",
       "      <th>2</th>\n",
       "      <td>151603712</td>\n",
       "      <td>Spore</td>\n",
       "      <td>14.9</td>\n",
       "    </tr>\n",
       "    <tr>\n",
       "      <th>3</th>\n",
       "      <td>151603712</td>\n",
       "      <td>Fallout New Vegas</td>\n",
       "      <td>12.1</td>\n",
       "    </tr>\n",
       "    <tr>\n",
       "      <th>4</th>\n",
       "      <td>151603712</td>\n",
       "      <td>Left 4 Dead 2</td>\n",
       "      <td>8.9</td>\n",
       "    </tr>\n",
       "  </tbody>\n",
       "</table>\n",
       "</div>"
      ],
      "text/plain": [
       "     user_id                  game_title  hours_played\n",
       "0  151603712  The Elder Scrolls V Skyrim         273.0\n",
       "1  151603712                   Fallout 4          87.0\n",
       "2  151603712                       Spore          14.9\n",
       "3  151603712           Fallout New Vegas          12.1\n",
       "4  151603712               Left 4 Dead 2           8.9"
      ]
     },
     "execution_count": 6,
     "metadata": {},
     "output_type": "execute_result"
    }
   ],
   "source": [
    "df = pd.read_csv(\"./steam-200k.csv\")\n",
    "# df['hours_played'] = df['hours_played']\n",
    "df['user_id'] = df['user_id'].astype(str)\n",
    "df.head()"
   ]
  },
  {
   "cell_type": "code",
   "execution_count": 7,
   "id": "6adff61c",
   "metadata": {},
   "outputs": [
    {
     "name": "stdout",
     "output_type": "stream",
     "text": [
      "Numero de Usuarios:  11350\n",
      "Numero de Jogos:  3600\n"
     ]
    }
   ],
   "source": [
    "n_jogos = len(df['game_title'].unique())\n",
    "n_usuarios = len(df['user_id'].unique())\n",
    "\n",
    "print(\"Numero de Usuarios: \", n_usuarios)\n",
    "print(\"Numero de Jogos: \", n_jogos)"
   ]
  },
  {
   "cell_type": "markdown",
   "id": "9bb584b8",
   "metadata": {},
   "source": [
    "## 2. Divisão da base em treino e teste"
   ]
  },
  {
   "cell_type": "markdown",
   "id": "9f71b3a0",
   "metadata": {},
   "source": [
    "Antes de avançar para as etapas de exploração dos vieses de popularidade é importante dividir o dataset em bases de treino e teste.\n",
    "\n",
    "Essa divisão é importante, pois, usaremos a base de treino tanto para ajustar nosso modelo de recomendação, conforme ja visto nas aulas anteriores, mas também para metrificar o estado inicial do perfis dos usuarios, ou seja, usaremos a base de treino para medir o nivel de popularidade dos filmes que cada usuario consome e poder realizar uma comparação justa com as recomendações geradas posteriormente!"
   ]
  },
  {
   "cell_type": "code",
   "execution_count": 8,
   "id": "37e4c077",
   "metadata": {},
   "outputs": [],
   "source": [
    "train, test = train_test_split(df, test_size=.3, random_state=42)"
   ]
  },
  {
   "cell_type": "markdown",
   "id": "9c7bb054",
   "metadata": {},
   "source": [
    "## 3. Visualizando a curva de popularidade do dataset"
   ]
  },
  {
   "cell_type": "markdown",
   "id": "7e8bdf34",
   "metadata": {},
   "source": [
    "A primeira etapa para entender o que é essa tal de popularidade é defini-la! \n",
    "\n",
    "Nessa aula usaremos a definição de popularidade como a quantidade de interações que um item, jogo ou filme possui. Por exemplo, se 10 usuarios jogaram o jogo A e 100 usuarios jogaram o jogo B, definimos que a popularidade $p(A) = 10$ e $p(B) = 100$ de tal forma que podemos comparar o quão mais popular ou não são os jogos, $p(B) > p(A)$."
   ]
  },
  {
   "cell_type": "markdown",
   "id": "b78e8767",
   "metadata": {},
   "source": [
    "### 3.1 Calculo da quantidade de horas jogadas por jogo"
   ]
  },
  {
   "cell_type": "markdown",
   "id": "48145976",
   "metadata": {},
   "source": [
    "Utilizando a ferramento ``groupby`` do pandas podemos agrupar jogos com mesmo titulo e contar a quantidade de iterações"
   ]
  },
  {
   "cell_type": "code",
   "execution_count": 9,
   "id": "960c0941",
   "metadata": {},
   "outputs": [
    {
     "data": {
      "text/html": [
       "<div>\n",
       "<style scoped>\n",
       "    .dataframe tbody tr th:only-of-type {\n",
       "        vertical-align: middle;\n",
       "    }\n",
       "\n",
       "    .dataframe tbody tr th {\n",
       "        vertical-align: top;\n",
       "    }\n",
       "\n",
       "    .dataframe thead th {\n",
       "        text-align: right;\n",
       "    }\n",
       "</style>\n",
       "<table border=\"1\" class=\"dataframe\">\n",
       "  <thead>\n",
       "    <tr style=\"text-align: right;\">\n",
       "      <th></th>\n",
       "      <th>interactions</th>\n",
       "    </tr>\n",
       "    <tr>\n",
       "      <th>game_title</th>\n",
       "      <th></th>\n",
       "    </tr>\n",
       "  </thead>\n",
       "  <tbody>\n",
       "    <tr>\n",
       "      <th>007 Legends</th>\n",
       "      <td>1</td>\n",
       "    </tr>\n",
       "    <tr>\n",
       "      <th>0RBITALIS</th>\n",
       "      <td>3</td>\n",
       "    </tr>\n",
       "    <tr>\n",
       "      <th>1... 2... 3... KICK IT! (Drop That Beat Like an Ugly Baby)</th>\n",
       "      <td>1</td>\n",
       "    </tr>\n",
       "    <tr>\n",
       "      <th>10 Second Ninja</th>\n",
       "      <td>2</td>\n",
       "    </tr>\n",
       "    <tr>\n",
       "      <th>100% Orange Juice</th>\n",
       "      <td>6</td>\n",
       "    </tr>\n",
       "  </tbody>\n",
       "</table>\n",
       "</div>"
      ],
      "text/plain": [
       "                                                    interactions\n",
       "game_title                                                      \n",
       "007 Legends                                                    1\n",
       "0RBITALIS                                                      3\n",
       "1... 2... 3... KICK IT! (Drop That Beat Like an...             1\n",
       "10 Second Ninja                                                2\n",
       "100% Orange Juice                                              6"
      ]
     },
     "execution_count": 9,
     "metadata": {},
     "output_type": "execute_result"
    }
   ],
   "source": [
    "soma_interacoes_por_jogo = train.groupby('game_title').count()[['hours_played']]\n",
    "soma_interacoes_por_jogo.columns = ['interactions']\n",
    "\n",
    "map_soma = soma_interacoes_por_jogo.to_dict()['interactions']\n",
    "\n",
    "soma_interacoes_por_jogo.head(5)"
   ]
  },
  {
   "cell_type": "markdown",
   "id": "ecd390c8",
   "metadata": {},
   "source": [
    "Podemos também ordenar esses valores para visualizar os jogos com maiores interações e plota-los de forma decrescente!"
   ]
  },
  {
   "cell_type": "code",
   "execution_count": 10,
   "id": "bb53bd89",
   "metadata": {},
   "outputs": [
    {
     "data": {
      "text/html": [
       "<div>\n",
       "<style scoped>\n",
       "    .dataframe tbody tr th:only-of-type {\n",
       "        vertical-align: middle;\n",
       "    }\n",
       "\n",
       "    .dataframe tbody tr th {\n",
       "        vertical-align: top;\n",
       "    }\n",
       "\n",
       "    .dataframe thead th {\n",
       "        text-align: right;\n",
       "    }\n",
       "</style>\n",
       "<table border=\"1\" class=\"dataframe\">\n",
       "  <thead>\n",
       "    <tr style=\"text-align: right;\">\n",
       "      <th></th>\n",
       "      <th>interactions</th>\n",
       "    </tr>\n",
       "    <tr>\n",
       "      <th>game_title</th>\n",
       "      <th></th>\n",
       "    </tr>\n",
       "  </thead>\n",
       "  <tbody>\n",
       "    <tr>\n",
       "      <th>Dota 2</th>\n",
       "      <td>3354</td>\n",
       "    </tr>\n",
       "    <tr>\n",
       "      <th>Team Fortress 2</th>\n",
       "      <td>1656</td>\n",
       "    </tr>\n",
       "    <tr>\n",
       "      <th>Counter-Strike Global Offensive</th>\n",
       "      <td>981</td>\n",
       "    </tr>\n",
       "    <tr>\n",
       "      <th>Unturned</th>\n",
       "      <td>784</td>\n",
       "    </tr>\n",
       "    <tr>\n",
       "      <th>Left 4 Dead 2</th>\n",
       "      <td>589</td>\n",
       "    </tr>\n",
       "  </tbody>\n",
       "</table>\n",
       "</div>"
      ],
      "text/plain": [
       "                                 interactions\n",
       "game_title                                   \n",
       "Dota 2                                   3354\n",
       "Team Fortress 2                          1656\n",
       "Counter-Strike Global Offensive           981\n",
       "Unturned                                  784\n",
       "Left 4 Dead 2                             589"
      ]
     },
     "execution_count": 10,
     "metadata": {},
     "output_type": "execute_result"
    }
   ],
   "source": [
    "soma_interacoes_por_jogo_ordenado = soma_interacoes_por_jogo.sort_values('interactions', ascending=False)\n",
    "\n",
    "map_id = dict(list(enumerate(soma_interacoes_por_jogo.index)))\n",
    "map_id = {v:k for k,v in map_id.items()}\n",
    "\n",
    "\n",
    "soma_interacoes_por_jogo_ordenado.head(5)"
   ]
  },
  {
   "cell_type": "markdown",
   "id": "2cf9cddc",
   "metadata": {},
   "source": [
    "### 3.2 A Long Tail Curve"
   ]
  },
  {
   "cell_type": "markdown",
   "id": "0d327d23",
   "metadata": {},
   "source": [
    "Um conceito fundamental em sistemas de recomendação é a Cauda Longa (Long Tail Curve)"
   ]
  },
  {
   "cell_type": "code",
   "execution_count": 14,
   "id": "6e1046d3",
   "metadata": {},
   "outputs": [
    {
     "data": {
      "image/png": "[encoded data removed]",
      "text/plain": [
       "<Figure size 864x576 with 1 Axes>"
      ]
     },
     "metadata": {
      "needs_background": "light"
     },
     "output_type": "display_data"
    }
   ],
   "source": [
    "plt.figure(figsize=(12, 8))\n",
    "sns.lineplot(\n",
    "    x = [i for i in range(len(soma_interacoes_por_jogo_ordenado))],\n",
    "    y = soma_interacoes_por_jogo_ordenado['interactions']\n",
    ")\n",
    "plt.grid()"
   ]
  },
  {
   "cell_type": "markdown",
   "id": "ce7df4ef",
   "metadata": {},
   "source": [
    "### 3.3 A relação entre popularidade e frequencia de recomendação"
   ]
  },
  {
   "cell_type": "markdown",
   "id": "32e75a0b",
   "metadata": {},
   "source": [
    "Ao longo da historia da pesquisa em sistemas de recomendação um fato veio a tona: Os algoritmos possuem vieses naturalmente, em especifico para o vies de popularidade, notou-se que alguns algoritmos tendem a recomendar com mais frequencia aqueles filmes, jogos ou livros que são mais famosos, acarretando na retroalimentação (Feedback Loop) do vies de popularidade (\"rich get richer\").\n",
    "\n",
    "Nessa etapa vamos visualizar como o modelo ``User-based KNN`` lida com esse vies! Para explorar isso vamos criar um modelo basico, treina-lo e gerar uma recomendação com o top-10 itens para cada usuario.\n",
    "\n",
    "Além disso, vamos definir o conceito de ``frequencia de recomendação`` como a quantidade de vezes em que cada item é recomendado para todas as top-10 recomendações geradas. Por exemplo, se pro usuario 1 recomendamos os jogos A, B e C e para o usuario 2 recomendamos o jogo B e D, teremos que a frequencia de recomendação de B, $f(B) = 2$, enquanto que $f(A) = f(C) = f(D) = 1$"
   ]
  },
  {
   "cell_type": "code",
   "execution_count": 60,
   "id": "ce92c340",
   "metadata": {},
   "outputs": [
    {
     "name": "stdout",
     "output_type": "stream",
     "text": [
      "Computing the msd similarity matrix...\n",
      "Done computing similarity matrix.\n"
     ]
    },
    {
     "data": {
      "text/plain": [
       "<surprise.prediction_algorithms.knns.KNNBasic at 0x7f7217cda100>"
      ]
     },
     "execution_count": 60,
     "metadata": {},
     "output_type": "execute_result"
    }
   ],
   "source": [
    "reader = Reader(rating_scale = (0, df['hours_played'].max()))\n",
    "\n",
    "trainset = Dataset.load_from_df(\n",
    "    train[[\"user_id\", \"game_title\", \"hours_played\"]], reader=reader\n",
    ").build_full_trainset()\n",
    "\n",
    "userknn = KNNBasic(sim_options={\"user_based\": True})\n",
    "userknn.fit(trainset)"
   ]
  },
  {
   "cell_type": "markdown",
   "id": "a78f1045",
   "metadata": {},
   "source": [
    "No bloco abaixo estamos calculando o score entre usuarios e jogos para selecionar os 10 itens com o maior score para cada usuario"
   ]
  },
  {
   "cell_type": "code",
   "execution_count": 61,
   "id": "5b4cd406",
   "metadata": {},
   "outputs": [
    {
     "name": "stderr",
     "output_type": "stream",
     "text": [
      "100%|███████████████████████████████████████████████████████████████████████████████████████████████████████████████████| 1000/1000 [01:41<00:00,  9.84it/s]\n"
     ]
    }
   ],
   "source": [
    "new_predictions = []\n",
    "data_p2 = []\n",
    "\n",
    "for user in tqdm.tqdm(test['user_id'].unique()[:1000]):\n",
    "    data = {\"game_title\": list(set(df[\"game_title\"].unique()))}\n",
    "    user_testset_df = pd.DataFrame(data)\n",
    "    user_testset_df[\"hours_played\"] = 0.0\n",
    "    user_testset_df[\"user_id\"] = user\n",
    "    \n",
    "    testset = (\n",
    "        Dataset.load_from_df(\n",
    "            user_testset_df[[\"user_id\", \"game_title\", \"hours_played\"]],\n",
    "            reader=reader,\n",
    "        )\n",
    "        .build_full_trainset()\n",
    "        .build_testset()\n",
    "    )\n",
    "    predictions = sorted(\n",
    "        [(pred.iid, pred.est)for pred in userknn.test(testset) if ((pred.uid == user))],\n",
    "        key=lambda x: x[1],reverse=True\n",
    "    )\n",
    "    new_predictions.append(predictions[:10])\n",
    "    \n",
    "    for j in predictions[:10]:\n",
    "        data_p2\n",
    "    \n"
   ]
  },
  {
   "cell_type": "code",
   "execution_count": 62,
   "id": "44590128",
   "metadata": {},
   "outputs": [
    {
     "data": {
      "text/plain": [
       "Text(0.5, 0, 'ID Filmes')"
      ]
     },
     "execution_count": 62,
     "metadata": {},
     "output_type": "execute_result"
    },
    {
     "data": {
      "image/png": "[encoded data removed]",
      "text/plain": [
       "<Figure size 864x576 with 2 Axes>"
      ]
     },
     "metadata": {
      "needs_background": "light"
     },
     "output_type": "display_data"
    }
   ],
   "source": [
    "import seaborn as sns\n",
    "from matplotlib import pyplot as plt\n",
    "\n",
    "plt.figure(figsize=(12, 8))\n",
    "\n",
    "g = sns.histplot(\n",
    "    x = data_p2,color='red', alpha=0.4\n",
    ")\n",
    "plt.ylabel(\"Frequencia da Recomendação (Vermelho)\")\n",
    "plt.xlabel(\"ID Filmes\")\n",
    "ax2 = g.twinx()\n",
    "\n",
    "plt.ylabel(\"Quantidade de Interações (Azul)\")\n",
    "sns.lineplot(\n",
    "    x = [i for i in range(len(df['game_title'].unique()))],\n",
    "    y=df.groupby('game_title').count().sort_values('hours_played', ascending=False)['hours_played'], ax=ax2,\n",
    "    color='blue',linewidth = 4, alpha=0.5\n",
    ")\n",
    "plt.grid()\n",
    "plt.xlabel(\"ID Filmes\")"
   ]
  },
  {
   "cell_type": "markdown",
   "id": "ab4b7be9",
   "metadata": {},
   "source": [
    "Na visualização acima temos a long-tail em azul, mostrando que poucos jogos concetram a maior parte das interações do dataset, porem, acrescentamos uma distribuição em vermelho, mostrando a quantidade acumulada que os itens foram recomendados para os usuarios.\n",
    "\n",
    "Fica claro que existe uma correlação em que quanto mais popular o item (Azul), mais aparece o item nas listas de recomendação (Vermelho).\n",
    "\n",
    "Esse é um exemplo classico em que os itens pouco popularidades do final da curva azul não são recomendados, sendo ignorados pelo dataset."
   ]
  },
  {
   "cell_type": "markdown",
   "id": "1f897ac9",
   "metadata": {},
   "source": [
    "## 4. Formas de medir o vies de popularidade"
   ]
  },
  {
   "cell_type": "markdown",
   "id": "92e2cb55",
   "metadata": {},
   "source": [
    "Na etapa anterior foi possivel visualizar que existe uma correlação entre popularidade e a frequencia em que esses itens são recomendados, mas, precisamos medir esses efeitos de forma quantitativa para fazer comparações justas entre modelos de recomendação e algoritmos de debiasing"
   ]
  },
  {
   "cell_type": "markdown",
   "id": "e03f6e80",
   "metadata": {},
   "source": [
    "### 4.1 Popularidade média por grupo"
   ]
  },
  {
   "attachments": {
    "keyword-short-vs-longtail-2020-08-03_08-24-43%281%29.png": {
     "image/png": "[encoded data removed]"
    }
   },
   "cell_type": "markdown",
   "id": "bacaac4d",
   "metadata": {},
   "source": [
    "Uma das formas de medir o impacto do vies de popularidade é por meio de uma metrica chamada GAP (Group Average Popularity). Essa métrica tem como objetivo agrupar usuarios em tres diferentes grupos:\n",
    "\n",
    "* **Usuarios BlockBuster:** nesse caso os usuarios consomem majoritariamente jogos/filmes populares\n",
    "* **Usuarios de Nicho:** Nessa categoria temos usuarios que consomem majoritariamente jogos/filmes pouco populares, como jogos indie e de nicho.\n",
    "* **Usuarios de Diversidade:** Nessa categoria os usuarios consomem tanto populares quanto não populares\n",
    "\n",
    "No entanto, para obter esses grupos, precisamos antes definir um criterio para dizer quais são os jogos populares ou não. Uma maneira de realizar essa divisão é utilizando a long tail curve que visualizamos anteriormente, de forma a dividi-la em 3 partes, sendo:\n",
    "* **Head:** Grupo dos jogos que juntos somam 20% das maiores interações do dataset\n",
    "* **Tail:** Grupo dos jogos que juntos somam 20% das menores interações do dataset\n",
    "* **Mid:** Restante dos jogos que não entram em nenhum desses grupos.\n",
    "\n",
    "Abaixo temos um exemplo da long tail dividida nos grupos:\n",
    "<br><br>\n",
    "<img src=\"attachment:keyword-short-vs-longtail-2020-08-03_08-24-43%281%29.png\" width=\"550\"/>\n"
   ]
  },
  {
   "cell_type": "markdown",
   "id": "512ccce1",
   "metadata": {},
   "source": [
    "Na cédula abaixo estamos somando as interações dos 11 filmes com maior interação do dataset e dividindo pela soma do total de interações. Observa-se que o resultado fica em $0.200823$, aproximadamente 20% ou seja, temos os itens que representam a HEAD da long tail curve, que compoem as 20% maiores interações"
   ]
  },
  {
   "cell_type": "code",
   "execution_count": 86,
   "id": "88ce2ba5",
   "metadata": {},
   "outputs": [
    {
     "name": "stdout",
     "output_type": "stream",
     "text": [
      "% de interações:  0.20082282842203397\n"
     ]
    }
   ],
   "source": [
    "print(\n",
    "    \"% de interações: \",\n",
    "    (soma_interacoes_por_jogo_ordenado.values[:11].sum()/soma_interacoes_por_jogo_ordenado.sum()\n",
    "    ).values[0]\n",
    ")"
   ]
  },
  {
   "cell_type": "markdown",
   "id": "cdde1585",
   "metadata": {},
   "source": [
    "Na cédula abaixo estamos somando as interações dos 2680 filmes com menor interação do dataset e dividindo pela soma do total de interações. Observa-se que o resultado fica em $0.20214$, aproximadamente 20% ou seja, temos os itens que representam a TAIL da long tail curve, que compoem as 20% menores interações"
   ]
  },
  {
   "cell_type": "code",
   "execution_count": 87,
   "id": "4f488af6",
   "metadata": {},
   "outputs": [
    {
     "name": "stdout",
     "output_type": "stream",
     "text": [
      "% de interações:  0.2021401645656844\n"
     ]
    }
   ],
   "source": [
    "print(\n",
    "    \"% de interações: \",\n",
    "    (soma_interacoes_por_jogo_ordenado.values[-2680:].sum()/soma_interacoes_por_jogo_ordenado.sum()\n",
    "    ).values[0]\n",
    ")"
   ]
  },
  {
   "cell_type": "markdown",
   "id": "88936ab4",
   "metadata": {},
   "source": [
    "Sabendo que os 11 primeiros filmes pertencem a HEAD e que os ultimos 2680 pertencem a TAIL, podemos definir uma variavel com o nome dos filmes e obter os filmes da categoria MID que não pertencem nem a HEAD nem a TAIL."
   ]
  },
  {
   "cell_type": "code",
   "execution_count": 88,
   "id": "4660c4e1",
   "metadata": {},
   "outputs": [],
   "source": [
    "jogos_maior_20porcento_nome = soma_interacoes_por_jogo_ordenado.reset_index().values[:11, 0]\n",
    "jogos_menor_20porcento_nome = soma_interacoes_por_jogo_ordenado.reset_index().values[-2916:, 0]\n",
    "\n",
    "jogos_entre_os_20porcento = set(df['game_title']) - set(jogos_maior_20porcento_nome) - set(jogos_menor_20porcento_nome)"
   ]
  },
  {
   "cell_type": "markdown",
   "id": "a025b087",
   "metadata": {},
   "source": [
    "Após definir os items por categoria, vamos verificar em quais categorias cada usuario se encaixa. A verificação é simples:\n",
    "* Consome mais que 50% de items da HEAD -> Usuario BlockBuster\n",
    "* Consome mais que 50% de items da TAIL -> Usuario de Nicho\n",
    "* Caso não seja nenhum dos dois anteriores -> Usuario de Diversidade"
   ]
  },
  {
   "cell_type": "code",
   "execution_count": 66,
   "id": "bc50e56a",
   "metadata": {},
   "outputs": [],
   "source": [
    "block_buster_group = []\n",
    "niche_group = []\n",
    "diverse_group = []\n",
    "\n",
    "for user_id in train['user_id'].unique():\n",
    "    interacted_by_user = train[train['user_id'] == user_id]\n",
    "    high_pop = interacted_by_user[interacted_by_user['game_title'].isin(jogos_maior_20porcento_nome)]\n",
    "    lowest_pop = interacted_by_user[interacted_by_user['game_title'].isin(jogos_menor_20porcento_nome)]\n",
    "\n",
    "    if len(high_pop)/len(interacted_by_user) > 0.5:\n",
    "        block_buster_group.append(user_id)\n",
    "    elif len(lowest_pop)/len(interacted_by_user) > 0.5:\n",
    "        niche_group.append(user_id)\n",
    "    else:\n",
    "        diverse_group.append(user_id)"
   ]
  },
  {
   "cell_type": "code",
   "execution_count": 67,
   "id": "eea0a377",
   "metadata": {},
   "outputs": [],
   "source": [
    "def calculate_gap_profile(train, user_id):\n",
    "    list_items = train[train['user_id'] == user_id]['game_title'].values\n",
    "    gap = sum([map_soma[i] for i in list_items])\n",
    "    return gap/len(list_items)\n",
    "    \n",
    "    \n",
    "gap_bb_profile = np.mean([calculate_gap_profile(train, i) for i in block_buster_group])\n",
    "gap_n_profile = np.mean([calculate_gap_profile(train, i) for i in niche_group])\n",
    "gap_d_profile = np.mean([calculate_gap_profile(train, i) for i in diverse_group])"
   ]
  },
  {
   "cell_type": "code",
   "execution_count": 68,
   "id": "7c087966",
   "metadata": {},
   "outputs": [
    {
     "name": "stderr",
     "output_type": "stream",
     "text": [
      " 18%|███████████████████▉                                                                                             | 1000/5681 [00:00<00:00, 7935.22it/s]\n"
     ]
    }
   ],
   "source": [
    "def calculate_gap(list_items):\n",
    "    gap = sum([map_soma.get(i, 0) for i in list_items])\n",
    "    return gap/len(list_items)\n",
    "\n",
    "gap_bb_rec1 = 0\n",
    "gap_d_rec1 = 0\n",
    "gap_n_rec1 = 0\n",
    "\n",
    "n_bb, n_d, n_n = 0, 0, 0\n",
    "\n",
    "for user, reclist in zip(tqdm.tqdm(test['user_id'].unique()), new_predictions):\n",
    "    if user in block_buster_group:\n",
    "        n_bb += 1\n",
    "        gap_bb_rec1 += calculate_gap([i[0] for i in reclist])\n",
    "    elif user in niche_group:\n",
    "        n_n += 1\n",
    "        gap_n_rec1 += calculate_gap([i[0] for i in reclist])\n",
    "    else:\n",
    "        n_d += 1\n",
    "        gap_d_rec1 += calculate_gap([i[0] for i in reclist])\n",
    "\n",
    "gap_bb_rec1 = gap_bb_rec1/n_bb\n",
    "gap_d_rec1 = gap_d_rec1/n_d\n",
    "gap_n_rec1 = gap_n_rec1/n_n"
   ]
  },
  {
   "cell_type": "code",
   "execution_count": 69,
   "id": "921ad7f7",
   "metadata": {},
   "outputs": [
    {
     "data": {
      "text/plain": [
       "(-0.9007511472042732, -0.4270692511577348, 3.848127645223334)"
      ]
     },
     "execution_count": 69,
     "metadata": {},
     "output_type": "execute_result"
    }
   ],
   "source": [
    "delta_gab_bb = (gap_bb_rec1 - gap_bb_profile )/gap_bb_profile\n",
    "delta_gab_d = (gap_d_rec1 - gap_d_profile )/gap_d_profile\n",
    "delta_gab_n = (gap_n_rec1 - gap_n_profile )/gap_n_profile\n",
    "\n",
    "delta_gab_bb, delta_gab_d, delta_gab_n"
   ]
  },
  {
   "cell_type": "markdown",
   "id": "04217070",
   "metadata": {},
   "source": [
    "### 4.2 Cobertura da cauda da long tail curve"
   ]
  },
  {
   "cell_type": "code",
   "execution_count": null,
   "id": "28683e42",
   "metadata": {},
   "outputs": [],
   "source": []
  },
  {
   "cell_type": "markdown",
   "id": "36556098",
   "metadata": {},
   "source": [
    "### 4.3 MRR"
   ]
  },
  {
   "cell_type": "code",
   "execution_count": null,
   "id": "744d1315",
   "metadata": {},
   "outputs": [],
   "source": []
  },
  {
   "cell_type": "markdown",
   "id": "f88909c5",
   "metadata": {},
   "source": [
    "## 5. Correção do víes de popularidade"
   ]
  },
  {
   "cell_type": "markdown",
   "id": "5d0e408d",
   "metadata": {},
   "source": [
    "Conseguimos visualizar a problematica do vies de popularidade, medimos seu efeito de forma quantitativas, mas, e agora? Como pode evita-lo?\n",
    "\n",
    "Existem inumeros métodos na literatura, mas, abordaremos um caso simples, proposto por [Nome Abdoula], em que é aplicado para os scores de cada item a seguinte heuristica:\n",
    "\n",
    "$$\n",
    "\\hat{r_{ui}} = (1-\\alpha)\\cdot r_{ui} + \\alpha \\cdot \\frac{1}{log(p(i))}\n",
    "$$\n",
    "\n",
    "Essa heuristica penaliza items que possuem muitas interações, pois, adiciona mais pontos ao score do item baseado em um calculo que é inversamente proporsional a quantidade de interações! Além disso, essa tecnica possui um parametro $\\alpha$ que permite controlar o quanto queremos considerar da popularidade ou do score do modelo, ou seja, um $\\alpha$ grande tende a penalizar muito itens populares enquanto que $\\alpha$ pequeno tende a privilegiar itens populares.\n",
    "\n",
    "Imagine que para o usuario $u$ nosso sistema recomendou os itens A e B, sendo o score de A $r_{uA} = 5$ e o score de B $r_{uB} = 4$, porem a popularidade de A é $p(A) = 10000$ e a popularidade de B é $p(B) = 10$, se aplicarmos essa correção com $alpha=0.5$, teremos que o novo score de A será $\\hat{r_{uA}} = 2.75$ enquanto que o novo score de B será $\\hat{r_{uB}} = 3$, ou seja, apesar de B ter um score inicial menor, por estarmos privilegiando itens menos popularidades seu novo score é maior, sendo ele escolhido para compor a lista de recomendação!"
   ]
  },
  {
   "cell_type": "code",
   "execution_count": 97,
   "id": "88d67682",
   "metadata": {},
   "outputs": [
    {
     "name": "stderr",
     "output_type": "stream",
     "text": [
      "100%|███████████████████████████████████████████████████████████████████████████████████████████████████████████████████| 1000/1000 [01:47<00:00,  9.34it/s]\n"
     ]
    }
   ],
   "source": [
    "new_predictions_after = []\n",
    "data_p2_after = []\n",
    "\n",
    "alpha = 0.9    \n",
    "\n",
    "for user in tqdm.tqdm(test['user_id'].unique()[:1000]):\n",
    "    data = {\"game_title\": list(set(df[\"game_title\"].unique()))}\n",
    "    user_testset_df = pd.DataFrame(data)\n",
    "    user_testset_df[\"hours_played\"] = 0.0\n",
    "    user_testset_df[\"user_id\"] = user\n",
    "    \n",
    "    testset = (\n",
    "        Dataset.load_from_df(\n",
    "            user_testset_df[[\"user_id\", \"game_title\", \"hours_played\"]],\n",
    "            reader=reader,\n",
    "        )\n",
    "        .build_full_trainset()\n",
    "        .build_testset()\n",
    "    )\n",
    "    predictions = sorted(\n",
    "        [(pred.iid, (1-alpha)*pred.est + (alpha/np.log(map_soma.get(pred.iid, 1)+1)) )for pred in userknn.test(testset) if ((pred.uid == user))],\n",
    "        key=lambda x: x[1],reverse=True\n",
    "    )\n",
    "    new_predictions_after.append(predictions[:10])\n",
    "    \n",
    "    for j in predictions[:10]:\n",
    "        if j[0] in map_id:\n",
    "            data_p2_after.append(map_id[j[0]])"
   ]
  },
  {
   "cell_type": "code",
   "execution_count": 100,
   "id": "6032b707",
   "metadata": {},
   "outputs": [
    {
     "data": {
      "image/png": "[encoded data removed]",
      "text/plain": [
       "<Figure size 864x576 with 2 Axes>"
      ]
     },
     "metadata": {
      "needs_background": "light"
     },
     "output_type": "display_data"
    }
   ],
   "source": [
    "import seaborn as sns\n",
    "from matplotlib import pyplot as plt\n",
    "\n",
    "plt.figure(figsize=(12, 8))\n",
    "\n",
    "g = sns.histplot(\n",
    "    x = data_p2_after,color='red', label='Porcentagem de Recomendações', alpha=0.7\n",
    ")\n",
    "\n",
    "ax2 = g.twinx()\n",
    "\n",
    "sns.lineplot(\n",
    "    x = [i for i in range(len(df['game_title'].unique()))],\n",
    "    y=df.groupby('game_title').sum().sort_values('hours_played', ascending=False)['hours_played'], ax=ax2,\n",
    "    color='blue', label=\"Curva de popularidade\", linewidth = 4, alpha=0.5\n",
    ")\n",
    "\n",
    "plt.grid()"
   ]
  },
  {
   "cell_type": "code",
   "execution_count": 101,
   "id": "6eba1278",
   "metadata": {},
   "outputs": [
    {
     "name": "stderr",
     "output_type": "stream",
     "text": [
      " 18%|███████████████████▉                                                                                             | 1000/5681 [00:00<00:00, 7868.25it/s]\n"
     ]
    }
   ],
   "source": [
    "def calculate_gap(list_items):\n",
    "    gap = sum([map_soma.get(i, 0) for i in list_items])\n",
    "    return gap/len(list_items)\n",
    "\n",
    "gap_bb_rec1 = 0\n",
    "gap_d_rec1 = 0\n",
    "gap_n_rec1 = 0\n",
    "\n",
    "n_bb, n_d, n_n = 0, 0, 0\n",
    "\n",
    "for user, reclist in zip(tqdm.tqdm(test['user_id'].unique()), new_predictions):\n",
    "    if user in block_buster_group:\n",
    "        n_bb += 1\n",
    "        gap_bb_rec1 += calculate_gap([i[0] for i in reclist])\n",
    "    elif user in niche_group:\n",
    "        n_n += 1\n",
    "        gap_n_rec1 += calculate_gap([i[0] for i in reclist])\n",
    "    else:\n",
    "        n_d += 1\n",
    "        gap_d_rec1 += calculate_gap([i[0] for i in reclist])\n",
    "\n",
    "gap_bb_rec1_after = gap_bb_rec1/n_bb\n",
    "gap_d_rec1_after = gap_d_rec1/n_d\n",
    "gap_n_rec1_after = gap_n_rec1/n_n"
   ]
  },
  {
   "cell_type": "code",
   "execution_count": 102,
   "id": "89061649",
   "metadata": {},
   "outputs": [
    {
     "data": {
      "text/plain": [
       "[('Out of the Park Baseball 16', 66.01921530396415),\n",
       " ('Empires', 64.30118122677042),\n",
       " ('Battle Nations', 44.60263135737236),\n",
       " ('Football Manager 2012', 41.70328499866849),\n",
       " ('Football Manager 2011', 41.530093217943644),\n",
       " ('Zombie Panic Source', 40.45907427876299),\n",
       " ('Counter-Strike Source', 37.43850801647856),\n",
       " ('Silent Hunter Wolves of the Pacific', 35.19842553680006),\n",
       " ('Freaking Meatbags', 34.39842553680006),\n",
       " ('Kingdoms CCG', 30.819215303964146)]"
      ]
     },
     "execution_count": 102,
     "metadata": {},
     "output_type": "execute_result"
    }
   ],
   "source": [
    "reclist"
   ]
  },
  {
   "cell_type": "code",
   "execution_count": 103,
   "id": "2c34e8f7",
   "metadata": {},
   "outputs": [
    {
     "data": {
      "text/plain": [
       "(-0.9010645825652391, -0.4455968165328591, 3.7270967145095946)"
      ]
     },
     "execution_count": 103,
     "metadata": {},
     "output_type": "execute_result"
    }
   ],
   "source": [
    "delta_gab_bb_after = (gap_bb_rec1_after - gap_bb_profile )/gap_bb_profile\n",
    "delta_gab_d_after = (gap_d_rec1_after - gap_d_profile )/gap_d_profile\n",
    "delta_gab_n_after = (gap_n_rec1_after - gap_n_profile )/gap_n_profile\n",
    "\n",
    "delta_gab_bb_after, delta_gab_d_after, delta_gab_n_after"
   ]
  },
  {
   "cell_type": "code",
   "execution_count": 104,
   "id": "af8f7a56",
   "metadata": {},
   "outputs": [
    {
     "data": {
      "text/plain": [
       "(-0.9007511472042732, -0.4270692511577348, 3.848127645223334)"
      ]
     },
     "execution_count": 104,
     "metadata": {},
     "output_type": "execute_result"
    }
   ],
   "source": [
    "(-0.9007511472042732, -0.4270692511577348, 3.848127645223334)"
   ]
  },
  {
   "cell_type": "markdown",
   "id": "3845874e",
   "metadata": {},
   "source": []
  }
 ],
 "metadata": {
  "kernelspec": {
   "display_name": "Python 3 (ipykernel)",
   "language": "python",
   "name": "python3"
  },
  "language_info": {
   "codemirror_mode": {
    "name": "ipython",
    "version": 3
   },
   "file_extension": ".py",
   "mimetype": "text/x-python",
   "name": "python",
   "nbconvert_exporter": "python",
   "pygments_lexer": "ipython3",
   "version": "3.9.12"
  }
 },
 "nbformat": 4,
 "nbformat_minor": 5
}
